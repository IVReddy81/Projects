{
 "cells": [
  {
   "cell_type": "code",
   "execution_count": 0,
   "metadata": {
    "application/vnd.databricks.v1+cell": {
     "cellMetadata": {
      "byteLimit": 2048000,
      "rowLimit": 10000
     },
     "inputWidgets": {},
     "nuid": "0cdea9ca-c60b-4642-a906-7f7688cd15fd",
     "showTitle": false,
     "tableResultSettingsMap": {},
     "title": ""
    }
   },
   "outputs": [],
   "source": [
    "from azure.eventhub import EventHubProducerClient, EventData\n",
    "import json\n",
    "\n",
    "# Event Hub configuration\n",
    "EVENT_HUB_CONNECTION_STRING = \"primary_connection_string_from event_hub\"\n",
    "EVENT_HUB_NAME = \"weather-event-hub\"\n",
    "\n",
    "# Initialize the Event Hub producer client using the provided connection string and Event Hub name.\n",
    "producer = EventHubProducerClient.from_connection_string(\n",
    "    conn_str=EVENT_HUB_CONNECTION_STRING, eventhub_name=EVENT_HUB_NAME\n",
    ")\n",
    "\n",
    "# Function to send a single event (as a dictionary) to Azure Event Hub.\n",
    "def send_event(event):\n",
    "    # Create a batch to hold the event data. Batching is recommended for efficiency.\n",
    "    event_data_batch = producer.create_batch()\n",
    "    # Serialize the event dictionary to a JSON string and add it to the batch.\n",
    "    event_data_batch.add(EventData(json.dumps(event)))\n",
    "    # Send the batch of events to the Event Hub.\n",
    "    producer.send_batch(event_data_batch)\n",
    "\n",
    "# Sample JSON event to be sent to the Event Hub.\n",
    "event = {\"event_id\": 1111, \"event_name\": \"Test Event\"}\n",
    "\n",
    "# Send the sample event to the Event Hub.\n",
    "send_event(event)\n",
    "\n",
    "# Close the Event Hub producer client to release resources.\n",
    "producer.close()"
   ]
  }
 ],
 "metadata": {
  "application/vnd.databricks.v1+notebook": {
   "computePreferences": null,
   "dashboards": [],
   "environmentMetadata": {
    "base_environment": "",
    "environment_version": "2"
   },
   "inputWidgetPreferences": null,
   "language": "python",
   "notebookMetadata": {
    "pythonIndentUnit": 4
   },
   "notebookName": "1. Test Event to Event HUB",
   "widgets": {}
  },
  "language_info": {
   "name": "python"
  }
 },
 "nbformat": 4,
 "nbformat_minor": 0
}
