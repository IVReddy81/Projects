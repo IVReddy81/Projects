{
 "cells": [
  {
   "cell_type": "code",
   "execution_count": 0,
   "metadata": {
    "application/vnd.databricks.v1+cell": {
     "cellMetadata": {
      "byteLimit": 2048000,
      "rowLimit": 10000
     },
     "inputWidgets": {},
     "nuid": "a26d9bb6-5b0f-4e56-91cf-b189b2e6b456",
     "showTitle": false,
     "tableResultSettingsMap": {},
     "title": ""
    }
   },
   "outputs": [],
   "source": [
    "import requests\n",
    "import json\n",
    "\n",
    "# Get secret value from Key Vault\n",
    "weatherapikey = dbutils.secrets.get(scope=\"key-vault-scope\", key=\"weather-api-key\")\n",
    "location = \"Queretaro\"  # Specify the city name\n",
    "\n",
    "base_url = \"http://api.weatherapi.com/v1/\"\n",
    "current_weather_url = f\"{base_url}/current.json\"\n",
    "\n",
    "# Set up API request parameters\n",
    "params = {\n",
    "    'key': weatherapikey,\n",
    "    'q': location\n",
    "}\n",
    "\n",
    "# Make the API request\n",
    "response = requests.get(current_weather_url, params=params)\n",
    "\n",
    "if response.status_code == 200:\n",
    "    # Parse and pretty-print the current weather data\n",
    "    current_weather = response.json()\n",
    "    print(\"Current Weather:\")\n",
    "    print(json.dumps(current_weather, indent=3))\n",
    "else:\n",
    "    # Print error message if request fails\n",
    "    print(f\"Error: {response.status_code}, {response.text}\")"
   ]
  },
  {
   "cell_type": "code",
   "execution_count": 0,
   "metadata": {
    "application/vnd.databricks.v1+cell": {
     "cellMetadata": {},
     "inputWidgets": {},
     "nuid": "89457541-e091-4371-aa93-db85c327cb24",
     "showTitle": false,
     "tableResultSettingsMap": {},
     "title": ""
    }
   },
   "outputs": [],
   "source": []
  }
 ],
 "metadata": {
  "application/vnd.databricks.v1+notebook": {
   "computePreferences": null,
   "dashboards": [],
   "environmentMetadata": {
    "base_environment": "",
    "environment_version": "2"
   },
   "inputWidgetPreferences": null,
   "language": "python",
   "notebookMetadata": {
    "pythonIndentUnit": 4
   },
   "notebookName": "3. Connecting to weather API",
   "widgets": {}
  },
  "language_info": {
   "name": "python"
  }
 },
 "nbformat": 4,
 "nbformat_minor": 0
}
