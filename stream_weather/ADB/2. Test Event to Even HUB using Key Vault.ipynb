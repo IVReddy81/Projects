{
 "cells": [
  {
   "cell_type": "code",
   "execution_count": 0,
   "metadata": {
    "application/vnd.databricks.v1+cell": {
     "cellMetadata": {
      "byteLimit": 2048000,
      "rowLimit": 10000
     },
     "inputWidgets": {},
     "nuid": "8ab62d96-ed44-4337-8fe3-2335ae974730",
     "showTitle": false,
     "tableResultSettingsMap": {},
     "title": ""
    }
   },
   "outputs": [],
   "source": [
    "from azure.eventhub import EventHubProducerClient, EventData\n",
    "import json\n",
    "\n",
    "# Event Hub configuration\n",
    "EVENT_HUB_CONNECTION_STRING = dbutils.secrets.get(scope=\"key-vault-scope\", key=\"event-hub-key\")\n",
    "EVENT_HUB_NAME = \"weather-event-hub\"\n",
    "\n",
    "# Initialize the Event Hub producer client using the provided connection string and Event Hub name.\n",
    "producer = EventHubProducerClient.from_connection_string(\n",
    "    conn_str=EVENT_HUB_CONNECTION_STRING, eventhub_name=EVENT_HUB_NAME\n",
    ")\n",
    "\n",
    "# Function to send a single event (as a dictionary) to Azure Event Hub.\n",
    "def send_event(event):\n",
    "    # Create a batch to hold the event data. Batching is recommended for efficiency.\n",
    "    event_data_batch = producer.create_batch()\n",
    "    # Serialize the event dictionary to a JSON string and add it to the batch.\n",
    "    event_data_batch.add(EventData(json.dumps(event)))\n",
    "    # Send the batch of events to the Event Hub.\n",
    "    producer.send_batch(event_data_batch)\n",
    "    # Log communication\n",
    "    print(f\"Event sent to Event Hub '{EVENT_HUB_NAME}': {event}\")\n",
    "\n",
    "# Sample JSON event to be sent to the Event Hub.\n",
    "event = {\"event_id\": 2222, \"event_name\": \"Test Event using key vault\"}\n",
    "\n",
    "# Send the sample event to the Event Hub.\n",
    "send_event(event)\n",
    "\n",
    "# Close the Event Hub producer client to release resources.\n",
    "producer.close()"
   ]
  },
  {
   "cell_type": "code",
   "execution_count": 0,
   "metadata": {
    "application/vnd.databricks.v1+cell": {
     "cellMetadata": {},
     "inputWidgets": {},
     "nuid": "62ade79d-a4ea-45fe-bded-6dc2f38f4de6",
     "showTitle": false,
     "tableResultSettingsMap": {},
     "title": ""
    }
   },
   "outputs": [],
   "source": []
  }
 ],
 "metadata": {
  "application/vnd.databricks.v1+notebook": {
   "computePreferences": null,
   "dashboards": [],
   "environmentMetadata": {
    "base_environment": "",
    "environment_version": "2"
   },
   "inputWidgetPreferences": null,
   "language": "python",
   "notebookMetadata": {
    "pythonIndentUnit": 4
   },
   "notebookName": "2. Test Event to Even HUB using Key Vault",
   "widgets": {}
  },
  "language_info": {
   "name": "python"
  }
 },
 "nbformat": 4,
 "nbformat_minor": 0
}
