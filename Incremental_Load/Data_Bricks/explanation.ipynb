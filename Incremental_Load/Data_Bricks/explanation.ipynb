{
 "cells": [
  {
   "cell_type": "markdown",
   "metadata": {
    "application/vnd.databricks.v1+cell": {
     "cellMetadata": {},
     "inputWidgets": {},
     "nuid": "e46d04e6-71d6-4192-ad69-1e7a2aa31957",
     "showTitle": false,
     "tableResultSettingsMap": {},
     "title": ""
    }
   },
   "source": [
    "# 🔄 SQL MERGE Statement – Line-by-Line Explanation\n",
    "\n",
    "This SQL script performs an **upsert operation** — updating existing records or inserting new ones — from a source table into a target table using the `MERGE` statement.\n",
    "\n",
    "---\n",
    "\n",
    "### 🔹 Merge Statement with Comments\n",
    "\n",
    "```sql\n",
    "-- Merge data from inc_source into inc_target using the 'id' as the key\n",
    "MERGE INTO\n",
    "  scd_cat.scd_schema.inc_target AS target -- Target table to update or insert into\n",
    "USING\n",
    "  scd_cat.scd_schema.inc_source AS source -- Source table with new data\n",
    "ON\n",
    "  target.id = source.id -- Match records based on 'id'\n",
    "WHEN MATCHED AND\n",
    "  (\n",
    "    source.name <> target.name\n",
    "    OR source.value <> target.value\n",
    "  ) -- If a match is found and either 'name' or 'value' is different\n",
    "  THEN UPDATE SET target.name = source.name, target.value = source.value -- Update the differing fields\n",
    "WHEN NOT MATCHED THEN INSERT (id, name, value) VALUES (source.id, source.name, source.value); -- Insert new records not present in target\n",
    "```\n",
    "\n",
    "---\n",
    "\n",
    "### 🧾 Explanation of Each Line\n",
    "\n",
    "| Line | Description |\n",
    "|------|-------------|\n",
    "| `MERGE INTO scd_cat.scd_schema.inc_target AS target` | We are working with the target table (`inc_target`) where data will be updated or inserted. |\n",
    "| `USING scd_cat.scd_schema.inc_source AS source` | The source table (`inc_source`) contains the new or changed data we want to merge. |\n",
    "| `ON target.id = source.id` | Records in the source and target are matched based on the `id` column. |\n",
    "| `WHEN MATCHED AND (source.name <> target.name OR source.value <> target.value)` | If a record with the same `id` exists and either the `name` or `value` is different, we consider it an update. |\n",
    "| `THEN UPDATE SET target.name = source.name, target.value = source.value` | If a difference is detected, update the `name` and `value` fields in the target with values from the source. |\n",
    "| `WHEN NOT MATCHED THEN INSERT (id, name, value) VALUES (source.id, source.name, source.value);` | If no match is found (i.e., a new record), insert it into the target table. |\n",
    "\n",
    "---\n",
    "\n",
    "### ✅ Summary\n",
    "\n",
    "This `MERGE` statement helps **synchronize the target table** with the source by:\n",
    "- Updating rows that already exist but have changed,\n",
    "- Inserting new rows that don’t exist in the target.\n",
    "\n",
    "It’s a clean and efficient way to handle **incremental data loading** or **change data capture (CDC)** patterns in data pipelines.\n"
   ]
  },
  {
   "cell_type": "code",
   "execution_count": 0,
   "metadata": {
    "application/vnd.databricks.v1+cell": {
     "cellMetadata": {},
     "inputWidgets": {},
     "nuid": "cc1e5f37-534e-40bc-831d-dec982d0d3e4",
     "showTitle": false,
     "tableResultSettingsMap": {},
     "title": ""
    }
   },
   "outputs": [],
   "source": []
  }
 ],
 "metadata": {
  "application/vnd.databricks.v1+notebook": {
   "computePreferences": null,
   "dashboards": [],
   "environmentMetadata": {
    "base_environment": "",
    "environment_version": "2"
   },
   "inputWidgetPreferences": null,
   "language": "sql",
   "notebookMetadata": {
    "pythonIndentUnit": 4
   },
   "notebookName": "explanation",
   "widgets": {}
  },
  "language_info": {
   "name": "sql"
  }
 },
 "nbformat": 4,
 "nbformat_minor": 0
}
