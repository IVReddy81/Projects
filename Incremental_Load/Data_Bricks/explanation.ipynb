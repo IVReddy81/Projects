{
 "cells": [
  {
   "cell_type": "markdown",
   "metadata": {
    "application/vnd.databricks.v1+cell": {
     "cellMetadata": {},
     "inputWidgets": {},
     "nuid": "e46d04e6-71d6-4192-ad69-1e7a2aa31957",
     "showTitle": false,
     "tableResultSettingsMap": {},
     "title": ""
    }
   },
   "source": [
    "# 🔄 SQL MERGE Statement – Line-by-Line Explanation\n",
    "\n",
    "This SQL `MERGE` operation performs an **upsert** (update or insert) from a `source` table into a `target` table. It synchronizes changes using multiple columns, including a deletion flag and a last-updated timestamp.\n",
    "\n",
    "---\n",
    "\n",
    "### 🔹 MERGE Statement\n",
    "\n",
    "```sql\n",
    "MERGE INTO\n",
    "  scd_cat.scd_schema.inc_target AS target\n",
    "USING\n",
    "  scd_cat.scd_schema.inc_source AS source\n",
    "ON\n",
    "  target.id = source.id\n",
    "WHEN MATCHED AND\n",
    "  (\n",
    "    source.name <> target.name\n",
    "    OR source.value <> target.value\n",
    "    OR source.updated_at <> target.updated_at\n",
    "    OR source.is_deleted <> target.is_deleted\n",
    "  )\n",
    "  THEN UPDATE SET\n",
    "    target.name = source.name,\n",
    "    target.value = source.value,\n",
    "    target.updated_at = source.updated_at,\n",
    "    target.is_deleted = source.is_deleted\n",
    "WHEN NOT MATCHED THEN\n",
    "  INSERT (id, name, value, updated_at, is_deleted)\n",
    "  VALUES (source.id, source.name, source.value, source.updated_at, source.is_deleted);\n",
    "```\n",
    "\n",
    "---\n",
    "\n",
    "### 🧾 Explanation of Each Line\n",
    "\n",
    "| Line | Explanation |\n",
    "|------|-------------|\n",
    "| `MERGE INTO scd_cat.scd_schema.inc_target AS target` | This is the **target table** where we want to apply updates or insert new records. |\n",
    "| `USING scd_cat.scd_schema.inc_source AS source` | This is the **source table** that contains the latest data. |\n",
    "| `ON target.id = source.id` | We **match rows** between source and target based on the `id` column. |\n",
    "| `WHEN MATCHED AND (...)` | If a match is found (same ID), we check for any changes in important fields. |\n",
    "| `source.name <> target.name` | Check if the `name` field has changed. |\n",
    "| `OR source.value <> target.value` | Check if the `value` field has changed. |\n",
    "| `OR source.updated_at <> target.updated_at` | Check if the last updated timestamp is different. |\n",
    "| `OR source.is_deleted <> target.is_deleted` | Check if the deletion flag has changed. |\n",
    "| `THEN UPDATE SET ...` | If any of the above fields are different, **update the record** in the target table. |\n",
    "| `target.name = source.name` | Update the `name` column. |\n",
    "| `target.value = source.value` | Update the `value` column. |\n",
    "| `target.updated_at = source.updated_at` | Update the `updated_at` timestamp. |\n",
    "| `target.is_deleted = source.is_deleted` | Update the deletion flag. |\n",
    "| `WHEN NOT MATCHED THEN` | If no record with the same `id` exists in the target... |\n",
    "| `INSERT (...) VALUES (...)` | ...**insert a new record** into the target table using all fields from the source. |\n",
    "\n",
    "---\n",
    "\n",
    "### ✅ Summary\n",
    "\n",
    "This `MERGE` statement:\n",
    "- **Updates** records in the target table if they exist and have changed,\n",
    "- **Inserts** new records if they don’t exist,\n",
    "- Ensures fields like `updated_at` and `is_deleted` are properly synchronized,\n",
    "- Supports **incremental data loads**, **soft deletes**, and **audit tracking** in modern ETL pipelines.\n",
    "\n",
    "Perfect for ensuring **data consistency** between staging and target tables in data lakes, warehouses, or lakehouses.\n",
    "\n"
   ]
  },
  {
   "cell_type": "code",
   "execution_count": 0,
   "metadata": {
    "application/vnd.databricks.v1+cell": {
     "cellMetadata": {},
     "inputWidgets": {},
     "nuid": "cc1e5f37-534e-40bc-831d-dec982d0d3e4",
     "showTitle": false,
     "tableResultSettingsMap": {},
     "title": ""
    }
   },
   "outputs": [],
   "source": []
  }
 ],
 "metadata": {
  "application/vnd.databricks.v1+notebook": {
   "computePreferences": null,
   "dashboards": [],
   "environmentMetadata": {
    "base_environment": "",
    "environment_version": "2"
   },
   "inputWidgetPreferences": null,
   "language": "sql",
   "notebookMetadata": {
    "pythonIndentUnit": 4
   },
   "notebookName": "explanation",
   "widgets": {}
  },
  "language_info": {
   "name": "sql"
  }
 },
 "nbformat": 4,
 "nbformat_minor": 0
}
