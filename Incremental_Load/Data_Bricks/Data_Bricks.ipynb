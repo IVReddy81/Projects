{
 "cells": [
  {
   "cell_type": "markdown",
   "metadata": {
    "application/vnd.databricks.v1+cell": {
     "cellMetadata": {},
     "inputWidgets": {},
     "nuid": "addc4a24-c9b6-40b6-99fe-d7ccbc11e018",
     "showTitle": false,
     "tableResultSettingsMap": {},
     "title": ""
    }
   },
   "source": [
    "#Creating source and destination tables"
   ]
  },
  {
   "cell_type": "code",
   "execution_count": 0,
   "metadata": {
    "application/vnd.databricks.v1+cell": {
     "cellMetadata": {
      "byteLimit": 2048000,
      "rowLimit": 10000
     },
     "inputWidgets": {},
     "nuid": "71a72b95-9120-454d-99ad-540b93d7ae16",
     "showTitle": false,
     "tableResultSettingsMap": {},
     "title": ""
    }
   },
   "outputs": [],
   "source": [
    "-- Create the source table if it does not already exist\n",
    "CREATE OR REPLACE TABLE scd_cat.scd_schema.inc_source (\n",
    "  id INT,                -- Unique identifier for each record\n",
    "  name STRING,           -- Name field (string type)\n",
    "  value INT,             -- Value field (integer type)\n",
    "  updated_at TIMESTAMP,  -- Last update timestamp\n",
    "  is_deleted BOOLEAN     -- Soft delete flag\n",
    ");\n",
    "\n",
    "-- Create the target table if it does not already exist\n",
    "CREATE OR REPLACE TABLE scd_cat.scd_schema.inc_target (\n",
    "  id INT,                -- Unique identifier for each record\n",
    "  name STRING,           -- Name field (string type)\n",
    "  value INT,             -- Value field (integer type)\n",
    "  updated_at TIMESTAMP,  -- Last update timestamp\n",
    "  is_deleted BOOLEAN     -- Soft delete flag\n",
    ");"
   ]
  },
  {
   "cell_type": "markdown",
   "metadata": {
    "application/vnd.databricks.v1+cell": {
     "cellMetadata": {},
     "inputWidgets": {},
     "nuid": "e41ae181-94b9-4fda-a98b-b47436b25e6a",
     "showTitle": false,
     "tableResultSettingsMap": {},
     "title": ""
    }
   },
   "source": [
    "##No data in source or destination table"
   ]
  },
  {
   "cell_type": "code",
   "execution_count": 0,
   "metadata": {
    "application/vnd.databricks.v1+cell": {
     "cellMetadata": {
      "byteLimit": 2048000,
      "rowLimit": 10000
     },
     "inputWidgets": {},
     "nuid": "8562167d-2ec9-48d2-b5f6-74d0eae095ff",
     "showTitle": false,
     "tableResultSettingsMap": {},
     "title": ""
    }
   },
   "outputs": [],
   "source": [
    "select\n",
    "  *\n",
    "from\n",
    "  scd_cat.scd_schema.inc_source;\n",
    "\n",
    "select\n",
    "  *\n",
    "from\n",
    "  scd_cat.scd_schema.inc_target;"
   ]
  },
  {
   "cell_type": "markdown",
   "metadata": {
    "application/vnd.databricks.v1+cell": {
     "cellMetadata": {},
     "inputWidgets": {},
     "nuid": "e0b24891-ee7a-4834-886f-4f4779bf66b0",
     "showTitle": false,
     "tableResultSettingsMap": {},
     "title": ""
    }
   },
   "source": [
    "##Adding sample data in source table"
   ]
  },
  {
   "cell_type": "code",
   "execution_count": 0,
   "metadata": {
    "application/vnd.databricks.v1+cell": {
     "cellMetadata": {
      "byteLimit": 2048000,
      "rowLimit": 10000
     },
     "inputWidgets": {},
     "nuid": "b51e6f38-5e2d-4f4c-a48d-ab48b2e49940",
     "showTitle": false,
     "tableResultSettingsMap": {},
     "title": ""
    }
   },
   "outputs": [],
   "source": [
    "insert into scd_cat.scd_schema.inc_source\n",
    "  values \n",
    "    (1, 'a', 1, timestamp('2025-07-16 09:00:00'), false),\n",
    "    (2, 'b', 2, timestamp('2025-07-16 09:05:00'), false),\n",
    "    (3, 'c', 3, timestamp('2025-07-16 09:10:00'), false);\n",
    "\n",
    "select\n",
    "  *\n",
    "from\n",
    "  scd_cat.scd_schema.inc_source;"
   ]
  },
  {
   "cell_type": "markdown",
   "metadata": {
    "application/vnd.databricks.v1+cell": {
     "cellMetadata": {},
     "inputWidgets": {},
     "nuid": "61280450-e28f-469c-88b1-f630fb82b80d",
     "showTitle": false,
     "tableResultSettingsMap": {},
     "title": ""
    }
   },
   "source": [
    "#Using MERGE logic for incremental load"
   ]
  },
  {
   "cell_type": "code",
   "execution_count": 0,
   "metadata": {
    "application/vnd.databricks.v1+cell": {
     "cellMetadata": {
      "byteLimit": 2048000,
      "rowLimit": 10000
     },
     "inputWidgets": {},
     "nuid": "b40a2ca8-37be-412f-a502-50dd3f7e4041",
     "showTitle": false,
     "tableResultSettingsMap": {},
     "title": ""
    }
   },
   "outputs": [],
   "source": [
    "MERGE INTO\n",
    "  scd_cat.scd_schema.inc_target AS target\n",
    "USING\n",
    "  scd_cat.scd_schema.inc_source AS source\n",
    "ON\n",
    "  target.id = source.id\n",
    "WHEN MATCHED AND\n",
    "  (\n",
    "    source.name <> target.name\n",
    "    OR source.value <> target.value\n",
    "    OR source.updated_at <> target.updated_at\n",
    "    OR source.is_deleted <> target.is_deleted\n",
    "  )\n",
    "  THEN UPDATE SET\n",
    "    target.name = source.name,\n",
    "    target.value = source.value,\n",
    "    target.updated_at = source.updated_at,\n",
    "    target.is_deleted = source.is_deleted\n",
    "WHEN NOT MATCHED THEN\n",
    "  INSERT (id, name, value, updated_at, is_deleted)\n",
    "  VALUES (source.id, source.name, source.value, source.updated_at, source.is_deleted);"
   ]
  },
  {
   "cell_type": "code",
   "execution_count": 0,
   "metadata": {
    "application/vnd.databricks.v1+cell": {
     "cellMetadata": {
      "byteLimit": 2048000,
      "rowLimit": 10000
     },
     "inputWidgets": {},
     "nuid": "4a2b2191-bcac-4dbb-95e7-a50aa29d610b",
     "showTitle": false,
     "tableResultSettingsMap": {},
     "title": ""
    }
   },
   "outputs": [],
   "source": [
    "select * from scd_cat.scd_schema.inc_target"
   ]
  },
  {
   "cell_type": "code",
   "execution_count": 0,
   "metadata": {
    "application/vnd.databricks.v1+cell": {
     "cellMetadata": {
      "byteLimit": 2048000,
      "rowLimit": 10000
     },
     "inputWidgets": {},
     "nuid": "9ebec501-53ca-415e-88cc-2dc42cda3e41",
     "showTitle": false,
     "tableResultSettingsMap": {},
     "title": ""
    }
   },
   "outputs": [],
   "source": [
    "insert into scd_cat.scd_schema.inc_source (id, name, value, updated_at, is_deleted)\n",
    "  values \n",
    "    (4, 'd', 4, current_timestamp(), false),\n",
    "    (5, 'e', 5, current_timestamp(), false);\n",
    "\n",
    "update\n",
    "  scd_cat.scd_schema.inc_source\n",
    "set\n",
    "  value = 100,\n",
    "  updated_at = current_timestamp()\n",
    "where\n",
    "  id = 1;"
   ]
  },
  {
   "cell_type": "code",
   "execution_count": 0,
   "metadata": {
    "application/vnd.databricks.v1+cell": {
     "cellMetadata": {},
     "inputWidgets": {},
     "nuid": "6f98cee5-fd0c-4b34-9584-0474aaa3db29",
     "showTitle": false,
     "tableResultSettingsMap": {},
     "title": ""
    }
   },
   "outputs": [],
   "source": []
  }
 ],
 "metadata": {
  "application/vnd.databricks.v1+notebook": {
   "computePreferences": null,
   "dashboards": [],
   "environmentMetadata": {
    "base_environment": "",
    "environment_version": "2"
   },
   "inputWidgetPreferences": null,
   "language": "sql",
   "notebookMetadata": {
    "pythonIndentUnit": 4
   },
   "notebookName": "Data_Bricks",
   "widgets": {}
  },
  "language_info": {
   "name": "sql"
  }
 },
 "nbformat": 4,
 "nbformat_minor": 0
}
