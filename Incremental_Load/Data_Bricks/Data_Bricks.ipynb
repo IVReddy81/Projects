{
 "cells": [
  {
   "cell_type": "markdown",
   "metadata": {
    "application/vnd.databricks.v1+cell": {
     "cellMetadata": {},
     "inputWidgets": {},
     "nuid": "addc4a24-c9b6-40b6-99fe-d7ccbc11e018",
     "showTitle": false,
     "tableResultSettingsMap": {},
     "title": ""
    }
   },
   "source": [
    "#Creating source and destination tables"
   ]
  },
  {
   "cell_type": "code",
   "execution_count": 0,
   "metadata": {
    "application/vnd.databricks.v1+cell": {
     "cellMetadata": {
      "byteLimit": 2048000,
      "rowLimit": 10000
     },
     "inputWidgets": {},
     "nuid": "71a72b95-9120-454d-99ad-540b93d7ae16",
     "showTitle": false,
     "tableResultSettingsMap": {},
     "title": ""
    }
   },
   "outputs": [],
   "source": [
    "-- Create the source table if it does not already exist\n",
    "CREATE TABLE IF NOT EXISTS scd_cat.scd_schema.inc_source (\n",
    "  id INT,         -- Unique identifier for each record\n",
    "  name STRING,    -- Name field (string type)\n",
    "  value INT       -- Value field (integer type)\n",
    ");\n",
    "\n",
    "-- Create the target table if it does not already exist\n",
    "CREATE TABLE IF NOT EXISTS scd_cat.scd_schema.inc_target (\n",
    "  id INT,         -- Unique identifier for each record\n",
    "  name STRING,    -- Name field (string type)\n",
    "  value INT       -- Value field (integer type)\n",
    ");"
   ]
  },
  {
   "cell_type": "markdown",
   "metadata": {
    "application/vnd.databricks.v1+cell": {
     "cellMetadata": {},
     "inputWidgets": {},
     "nuid": "e41ae181-94b9-4fda-a98b-b47436b25e6a",
     "showTitle": false,
     "tableResultSettingsMap": {},
     "title": ""
    }
   },
   "source": [
    "##No data in source or destination table"
   ]
  },
  {
   "cell_type": "code",
   "execution_count": 0,
   "metadata": {
    "application/vnd.databricks.v1+cell": {
     "cellMetadata": {
      "byteLimit": 2048000,
      "rowLimit": 10000
     },
     "inputWidgets": {},
     "nuid": "8562167d-2ec9-48d2-b5f6-74d0eae095ff",
     "showTitle": false,
     "tableResultSettingsMap": {},
     "title": ""
    }
   },
   "outputs": [],
   "source": [
    "select\n",
    "  *\n",
    "from\n",
    "  scd_cat.scd_schema.inc_source;\n",
    "\n",
    "select\n",
    "  *\n",
    "from\n",
    "  scd_cat.scd_schema.inc_target;"
   ]
  },
  {
   "cell_type": "markdown",
   "metadata": {
    "application/vnd.databricks.v1+cell": {
     "cellMetadata": {},
     "inputWidgets": {},
     "nuid": "e0b24891-ee7a-4834-886f-4f4779bf66b0",
     "showTitle": false,
     "tableResultSettingsMap": {},
     "title": ""
    }
   },
   "source": [
    "##Adding sample data in source table"
   ]
  },
  {
   "cell_type": "code",
   "execution_count": 0,
   "metadata": {
    "application/vnd.databricks.v1+cell": {
     "cellMetadata": {
      "byteLimit": 2048000,
      "rowLimit": 10000
     },
     "inputWidgets": {},
     "nuid": "b51e6f38-5e2d-4f4c-a48d-ab48b2e49940",
     "showTitle": false,
     "tableResultSettingsMap": {},
     "title": ""
    }
   },
   "outputs": [],
   "source": [
    "insert into scd_cat.scd_schema.inc_source\n",
    "  values (1, 'a', 1), (2, 'b', 2), (3, 'c', 3);\n",
    "\n",
    "select\n",
    "  *\n",
    "from\n",
    "  scd_cat.scd_schema.inc_source;"
   ]
  },
  {
   "cell_type": "markdown",
   "metadata": {
    "application/vnd.databricks.v1+cell": {
     "cellMetadata": {},
     "inputWidgets": {},
     "nuid": "61280450-e28f-469c-88b1-f630fb82b80d",
     "showTitle": false,
     "tableResultSettingsMap": {},
     "title": ""
    }
   },
   "source": [
    "#Using MERGE logic for incremental load"
   ]
  },
  {
   "cell_type": "code",
   "execution_count": 0,
   "metadata": {
    "application/vnd.databricks.v1+cell": {
     "cellMetadata": {
      "byteLimit": 2048000,
      "rowLimit": 10000
     },
     "inputWidgets": {},
     "nuid": "b40a2ca8-37be-412f-a502-50dd3f7e4041",
     "showTitle": false,
     "tableResultSettingsMap": {},
     "title": ""
    }
   },
   "outputs": [],
   "source": [
    "-- Merge data from inc_source into inc_target using the 'id' as the key\n",
    "MERGE INTO\n",
    "  scd_cat.scd_schema.inc_target AS target -- Target table to update or insert into\n",
    "USING\n",
    "  scd_cat.scd_schema.inc_source AS source -- Source table with new data\n",
    "ON\n",
    "  target.id = source.id -- Match records based on 'id'\n",
    "WHEN MATCHED AND\n",
    "  (\n",
    "    source.name <> target.name\n",
    "    or source.value <> target.value\n",
    "  ) -- If a match is found and either 'name' or 'value' is different\n",
    "  THEN UPDATE SET target.name = source.name, target.value = source.value -- Update the differing fields\n",
    "WHEN NOT MATCHED THEN INSERT (id, name, value) VALUES (source.id, source.name, source.value); -- Insert new records not present in target"
   ]
  },
  {
   "cell_type": "markdown",
   "metadata": {
    "application/vnd.databricks.v1+cell": {
     "cellMetadata": {},
     "inputWidgets": {},
     "nuid": "9b539aeb-fc74-4a5a-a381-7bfe00d92e51",
     "showTitle": false,
     "tableResultSettingsMap": {},
     "title": ""
    }
   },
   "source": [
    "##Checking data after running merge"
   ]
  },
  {
   "cell_type": "code",
   "execution_count": 0,
   "metadata": {
    "application/vnd.databricks.v1+cell": {
     "cellMetadata": {
      "byteLimit": 2048000,
      "rowLimit": 10000
     },
     "inputWidgets": {},
     "nuid": "4a2b2191-bcac-4dbb-95e7-a50aa29d610b",
     "showTitle": false,
     "tableResultSettingsMap": {},
     "title": ""
    }
   },
   "outputs": [],
   "source": [
    "select * from scd_cat.scd_schema.inc_target"
   ]
  },
  {
   "cell_type": "code",
   "execution_count": 0,
   "metadata": {
    "application/vnd.databricks.v1+cell": {
     "cellMetadata": {
      "byteLimit": 2048000,
      "rowLimit": 10000
     },
     "inputWidgets": {},
     "nuid": "9ebec501-53ca-415e-88cc-2dc42cda3e41",
     "showTitle": false,
     "tableResultSettingsMap": {},
     "title": ""
    }
   },
   "outputs": [],
   "source": [
    "insert into scd_cat.scd_schema.inc_source\n",
    "  values (4, 'd', 4), (5, 'e', 5);\n",
    "\n",
    "update\n",
    "  scd_cat.scd_schema.inc_source\n",
    "set\n",
    "  value = 100\n",
    "where\n",
    "  id = 1;"
   ]
  },
  {
   "cell_type": "code",
   "execution_count": 0,
   "metadata": {
    "application/vnd.databricks.v1+cell": {
     "cellMetadata": {},
     "inputWidgets": {},
     "nuid": "6f98cee5-fd0c-4b34-9584-0474aaa3db29",
     "showTitle": false,
     "tableResultSettingsMap": {},
     "title": ""
    }
   },
   "outputs": [],
   "source": []
  }
 ],
 "metadata": {
  "application/vnd.databricks.v1+notebook": {
   "computePreferences": null,
   "dashboards": [],
   "environmentMetadata": {
    "base_environment": "",
    "environment_version": "2"
   },
   "inputWidgetPreferences": null,
   "language": "sql",
   "notebookMetadata": {
    "pythonIndentUnit": 4
   },
   "notebookName": "Data_Bricks",
   "widgets": {}
  },
  "language_info": {
   "name": "sql"
  }
 },
 "nbformat": 4,
 "nbformat_minor": 0
}
