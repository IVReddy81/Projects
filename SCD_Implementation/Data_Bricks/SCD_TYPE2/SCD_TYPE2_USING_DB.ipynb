{
 "cells": [
  {
   "cell_type": "code",
   "execution_count": 0,
   "metadata": {
    "application/vnd.databricks.v1+cell": {
     "cellMetadata": {
      "byteLimit": 2048000,
      "rowLimit": 10000
     },
     "inputWidgets": {},
     "nuid": "fe28a1a7-d6fe-41e3-be00-fa99c78cfc9c",
     "showTitle": false,
     "tableResultSettingsMap": {},
     "title": ""
    }
   },
   "outputs": [],
   "source": [
    "-- 1. Create source table in scd_cat.scd_schema: This table holds the latest incoming data snapshot.\n",
    "CREATE OR REPLACE TABLE scd_cat.scd_schema.source_table (\n",
    "  id INT,\n",
    "  name STRING,\n",
    "  value STRING,\n",
    "  updated_at TIMESTAMP\n",
    ");\n",
    "\n",
    "insert into scd_cat.scd_schema.source_table values (1, 'a', '1', '2023-01-01 00:00:00'),(2,'b','2','2023-01-02 00:00:00');"
   ]
  },
  {
   "cell_type": "code",
   "execution_count": 0,
   "metadata": {
    "application/vnd.databricks.v1+cell": {
     "cellMetadata": {
      "byteLimit": 2048000,
      "rowLimit": 10000
     },
     "inputWidgets": {},
     "nuid": "dd95b254-dd23-4fb7-8932-f09f134c48fa",
     "showTitle": false,
     "tableResultSettingsMap": {},
     "title": ""
    }
   },
   "outputs": [],
   "source": [
    "select * from scd_cat.scd_schema.source_table"
   ]
  },
  {
   "cell_type": "code",
   "execution_count": 0,
   "metadata": {
    "application/vnd.databricks.v1+cell": {
     "cellMetadata": {
      "byteLimit": 2048000,
      "rowLimit": 10000
     },
     "inputWidgets": {},
     "nuid": "2eaddb61-37cc-4b99-8d8b-d1a3acd3dd60",
     "showTitle": false,
     "tableResultSettingsMap": {},
     "title": ""
    }
   },
   "outputs": [],
   "source": [
    "-- 2. Create destination (SCD2) table in scd_cat.scd_schema: This table tracks historical changes using SCD Type 2 logic.\n",
    "CREATE OR REPLACE TABLE scd_cat.scd_schema.scd2_table (\n",
    "  id INT,\n",
    "  name STRING,\n",
    "  value STRING,\n",
    "  valid_from TIMESTAMP,      -- When this record became valid\n",
    "  valid_to TIMESTAMP,        -- When this record was superseded (or max date if current)\n",
    "  is_current BOOLEAN         -- TRUE if this is the current record for the id\n",
    ");"
   ]
  },
  {
   "cell_type": "code",
   "execution_count": 0,
   "metadata": {
    "application/vnd.databricks.v1+cell": {
     "cellMetadata": {
      "byteLimit": 2048000,
      "rowLimit": 10000
     },
     "inputWidgets": {},
     "nuid": "c48f4298-3d61-4700-b887-95f92ab4ea90",
     "showTitle": false,
     "tableResultSettingsMap": {},
     "title": ""
    }
   },
   "outputs": [],
   "source": [
    "-- 3. SCD2 Merge Logic: Update or insert records based on changes in source data.\n",
    "MERGE INTO\n",
    "  scd_cat.scd_schema.scd2_table AS target\n",
    "USING\n",
    "  scd_cat.scd_schema.source_table AS source\n",
    "ON\n",
    "  target.id = source.id\n",
    "  AND target.is_current = TRUE\n",
    "WHEN MATCHED AND\n",
    "  (\n",
    "    target.name <> source.name\n",
    "    OR target.value <> source.value\n",
    "  )\n",
    "  THEN UPDATE SET target.valid_to = source.updated_at, target.is_current = FALSE\n",
    "WHEN NOT MATCHED BY TARGET THEN INSERT (id, name, value, valid_from, valid_to, is_current)\n",
    "  VALUES (\n",
    "    source.id,\n",
    "    source.name,\n",
    "    source.value,\n",
    "    source.updated_at,\n",
    "    TIMESTAMP '9999-12-31 23:59:59',\n",
    "    TRUE\n",
    "  );\n",
    "\n",
    "-- 4. Insert new current records for updated/expired ones:\n",
    "INSERT INTO scd_cat.scd_schema.scd2_table\n",
    "  SELECT\n",
    "    s.id,\n",
    "    s.name,\n",
    "    s.value,\n",
    "    s.updated_at AS valid_from,\n",
    "    TIMESTAMP '9999-12-31 23:59:59' AS valid_to,\n",
    "    TRUE AS is_current\n",
    "  FROM\n",
    "    scd_cat.scd_schema.source_table s\n",
    "      LEFT JOIN scd_cat.scd_schema.scd2_table t\n",
    "        ON s.id = t.id\n",
    "        AND t.is_current = FALSE\n",
    "        AND t.valid_to = s.updated_at\n",
    "  WHERE\n",
    "    t.id IS NOT NULL;"
   ]
  },
  {
   "cell_type": "code",
   "execution_count": 0,
   "metadata": {
    "application/vnd.databricks.v1+cell": {
     "cellMetadata": {
      "byteLimit": 2048000,
      "rowLimit": 10000
     },
     "inputWidgets": {},
     "nuid": "45f99191-c090-4770-8782-1d241de9ff45",
     "showTitle": false,
     "tableResultSettingsMap": {},
     "title": ""
    }
   },
   "outputs": [],
   "source": [
    "select * from scd_cat.scd_schema.scd2_table"
   ]
  },
  {
   "cell_type": "code",
   "execution_count": 0,
   "metadata": {
    "application/vnd.databricks.v1+cell": {
     "cellMetadata": {
      "byteLimit": 2048000,
      "rowLimit": 10000
     },
     "inputWidgets": {},
     "nuid": "f19e09e6-4d7b-43c8-8a32-4e11f8c3cb23",
     "showTitle": false,
     "tableResultSettingsMap": {},
     "title": ""
    }
   },
   "outputs": [],
   "source": [
    "update\n",
    "  scd_cat.scd_schema.source_table\n",
    "set\n",
    "  name = 'ab'\n",
    "where\n",
    "  id = 1"
   ]
  }
 ],
 "metadata": {
  "application/vnd.databricks.v1+notebook": {
   "computePreferences": null,
   "dashboards": [],
   "environmentMetadata": {
    "base_environment": "",
    "environment_version": "2"
   },
   "inputWidgetPreferences": null,
   "language": "sql",
   "notebookMetadata": {
    "pythonIndentUnit": 4
   },
   "notebookName": "SCD_TYPE2_USING_DB",
   "widgets": {}
  },
  "language_info": {
   "name": "sql"
  }
 },
 "nbformat": 4,
 "nbformat_minor": 0
}
