{
 "cells": [
  {
   "cell_type": "code",
   "execution_count": 0,
   "metadata": {
    "application/vnd.databricks.v1+cell": {
     "cellMetadata": {
      "byteLimit": 2048000,
      "implicitDf": true,
      "rowLimit": 10000
     },
     "inputWidgets": {},
     "nuid": "709e40f3-9c02-4969-84af-bcabaa4755ca",
     "showTitle": false,
     "tableResultSettingsMap": {},
     "title": ""
    }
   },
   "outputs": [],
   "source": [
    "-- Create the catalog 'scd_cat' if it does not already exist\n",
    "create catalog if not exists scd_cat;"
   ]
  },
  {
   "cell_type": "code",
   "execution_count": 0,
   "metadata": {
    "application/vnd.databricks.v1+cell": {
     "cellMetadata": {
      "byteLimit": 2048000,
      "rowLimit": 10000
     },
     "inputWidgets": {},
     "nuid": "9d71485f-4345-4d80-b91c-dbc00cf50252",
     "showTitle": false,
     "tableResultSettingsMap": {},
     "title": ""
    }
   },
   "outputs": [],
   "source": [
    "-- Show all available catalogs in the workspace\n",
    "show catalogs"
   ]
  },
  {
   "cell_type": "code",
   "execution_count": 0,
   "metadata": {
    "application/vnd.databricks.v1+cell": {
     "cellMetadata": {
      "byteLimit": 2048000,
      "rowLimit": 10000
     },
     "inputWidgets": {},
     "nuid": "ea05b373-d1d0-47c8-958f-9f23c3125408",
     "showTitle": false,
     "tableResultSettingsMap": {},
     "title": ""
    }
   },
   "outputs": [],
   "source": [
    "-- List all schemas (databases) in the current catalog\n",
    "show databases"
   ]
  },
  {
   "cell_type": "code",
   "execution_count": 0,
   "metadata": {
    "application/vnd.databricks.v1+cell": {
     "cellMetadata": {
      "byteLimit": 2048000,
      "rowLimit": 10000
     },
     "inputWidgets": {},
     "nuid": "b0866186-fbb8-4bc4-aba2-fab05bcacae6",
     "showTitle": false,
     "tableResultSettingsMap": {},
     "title": ""
    }
   },
   "outputs": [],
   "source": [
    "-- Switch to the 'scd_cat' catalog\n",
    "use catalog scd_cat;\n",
    "\n",
    "-- Switch to the 'scd_schema' schema\n",
    "use schema scd_schema;\n",
    "\n",
    "-- Create table 't_source' with columns 'id' and 'name'\n",
    "create table t_source (id int, name varchar(50));\n",
    "\n",
    "-- Display all records from 't_source'\n",
    "select * from t_source;"
   ]
  },
  {
   "cell_type": "code",
   "execution_count": 0,
   "metadata": {
    "application/vnd.databricks.v1+cell": {
     "cellMetadata": {
      "byteLimit": 2048000,
      "rowLimit": 10000
     },
     "inputWidgets": {},
     "nuid": "5e3c617b-2f09-4289-ba15-43cbe6f314ee",
     "showTitle": false,
     "tableResultSettingsMap": {},
     "title": ""
    }
   },
   "outputs": [],
   "source": [
    "-- Insert sample records into 't_source' table\n",
    "insert into t_source (id, name) values\n",
    "  (1, 'Alice'),\n",
    "  (2, 'Bob'),\n",
    "  (3, 'Charlie'),\n",
    "  (4, 'Diana'),\n",
    "  (5, 'Eve');"
   ]
  },
  {
   "cell_type": "code",
   "execution_count": 0,
   "metadata": {
    "application/vnd.databricks.v1+cell": {
     "cellMetadata": {
      "byteLimit": 2048000,
      "rowLimit": 10000
     },
     "inputWidgets": {},
     "nuid": "30a88960-2355-4481-8ee5-d8a506a78319",
     "showTitle": false,
     "tableResultSettingsMap": {},
     "title": ""
    }
   },
   "outputs": [],
   "source": [
    "-- Create table 't_destination' with columns 'id' and 'name'\n",
    "create table t_destination (id int, name varchar(50));"
   ]
  },
  {
   "cell_type": "code",
   "execution_count": 0,
   "metadata": {
    "application/vnd.databricks.v1+cell": {
     "cellMetadata": {
      "byteLimit": 2048000,
      "rowLimit": 10000
     },
     "inputWidgets": {},
     "nuid": "626a0103-cb23-4594-8fd9-3170f8449f49",
     "showTitle": false,
     "tableResultSettingsMap": {},
     "title": ""
    }
   },
   "outputs": [],
   "source": [
    "create table t_destination (id int, name varchar(50)); --creating destination table\n"
   ]
  },
  {
   "cell_type": "code",
   "execution_count": 0,
   "metadata": {
    "application/vnd.databricks.v1+cell": {
     "cellMetadata": {
      "byteLimit": 2048000,
      "rowLimit": 10000
     },
     "inputWidgets": {},
     "nuid": "1e888a31-a1a2-412d-bdeb-1c1b3c8ccbb5",
     "showTitle": false,
     "tableResultSettingsMap": {},
     "title": ""
    }
   },
   "outputs": [],
   "source": [
    "select * from scd_cat.scd_schema.t_destination"
   ]
  },
  {
   "cell_type": "markdown",
   "metadata": {
    "application/vnd.databricks.v1+cell": {
     "cellMetadata": {},
     "inputWidgets": {},
     "nuid": "b0f43219-8261-4283-b5df-d159dc299176",
     "showTitle": false,
     "tableResultSettingsMap": {},
     "title": ""
    }
   },
   "source": [
    "#Merge for SCD1"
   ]
  },
  {
   "cell_type": "code",
   "execution_count": 0,
   "metadata": {
    "application/vnd.databricks.v1+cell": {
     "cellMetadata": {
      "byteLimit": 2048000,
      "rowLimit": 10000
     },
     "inputWidgets": {},
     "nuid": "01af3e77-7420-4666-bada-f852ff86a6e2",
     "showTitle": false,
     "tableResultSettingsMap": {},
     "title": ""
    }
   },
   "outputs": [],
   "source": [
    "-- Merge data from source to destination table\n",
    "merge into scd_cat.scd_schema.t_destination t\n",
    "using scd_cat.scd_schema.t_source s\n",
    "on t.id = s.id\n",
    "when matched then update set * -- Update all columns when a match is found\n",
    "when not matched then insert * -- Insert new rows when no match is found"
   ]
  },
  {
   "cell_type": "code",
   "execution_count": 0,
   "metadata": {
    "application/vnd.databricks.v1+cell": {
     "cellMetadata": {
      "byteLimit": 2048000,
      "rowLimit": 10000
     },
     "inputWidgets": {},
     "nuid": "65a4bfc1-155b-467f-9202-f6c78f6169a0",
     "showTitle": false,
     "tableResultSettingsMap": {},
     "title": ""
    }
   },
   "outputs": [],
   "source": [
    "select * from scd_cat.scd_schema.t_destination --fetching all the records after merge"
   ]
  },
  {
   "cell_type": "code",
   "execution_count": 0,
   "metadata": {
    "application/vnd.databricks.v1+cell": {
     "cellMetadata": {
      "byteLimit": 2048000,
      "rowLimit": 10000
     },
     "inputWidgets": {},
     "nuid": "fd77b855-762e-4c89-8cf6-8c54caa4e4a4",
     "showTitle": false,
     "tableResultSettingsMap": {},
     "title": ""
    }
   },
   "outputs": [],
   "source": [
    "-- Update the 'name' column by appending 'A' for rows where 'id' is less than 4\n",
    "update\n",
    "  scd_cat.scd_schema.t_source\n",
    "set\n",
    "  name = concat(name, \"A\")\n",
    "where\n",
    "  id < 4;\n",
    "\n",
    "-- Insert new rows with id 6 and 7 into the source table\n",
    "insert into scd_cat.scd_schema.t_source (id, name)\n",
    "  values (6, 'Fiona'), (7, 'George');\n",
    "\n",
    "-- Select all records from the source table to verify the update and insert operations\n",
    "select\n",
    "  *\n",
    "from\n",
    "  scd_cat.scd_schema.t_source;"
   ]
  },
  {
   "cell_type": "markdown",
   "metadata": {
    "application/vnd.databricks.v1+cell": {
     "cellMetadata": {},
     "inputWidgets": {},
     "nuid": "0799ca17-5b68-4dfd-9d2b-4ad63dfd85de",
     "showTitle": false,
     "tableResultSettingsMap": {},
     "title": ""
    }
   },
   "source": [
    "##Re-Executing the Merge after inserting and updating some data "
   ]
  },
  {
   "cell_type": "code",
   "execution_count": 0,
   "metadata": {
    "application/vnd.databricks.v1+cell": {
     "cellMetadata": {
      "byteLimit": 2048000,
      "rowLimit": 10000
     },
     "inputWidgets": {},
     "nuid": "4cfc884f-9353-4993-8968-716550311ae4",
     "showTitle": false,
     "tableResultSettingsMap": {},
     "title": ""
    }
   },
   "outputs": [],
   "source": [
    "-- Merge data from source to destination table\n",
    "merge into scd_cat.scd_schema.t_destination t\n",
    "using scd_cat.scd_schema.t_source s\n",
    "on t.id = s.id\n",
    "when matched then update set * -- Update all columns when a match is found\n",
    "when not matched then insert * -- Insert new rows when no match is found"
   ]
  },
  {
   "cell_type": "code",
   "execution_count": 0,
   "metadata": {
    "application/vnd.databricks.v1+cell": {
     "cellMetadata": {
      "byteLimit": 2048000,
      "rowLimit": 10000
     },
     "inputWidgets": {},
     "nuid": "0d1219a4-5f41-441d-b838-7ccc40cfe387",
     "showTitle": false,
     "tableResultSettingsMap": {},
     "title": ""
    }
   },
   "outputs": [],
   "source": [
    "select\n",
    "  *\n",
    "from\n",
    "  scd_cat.scd_schema.t_destination;"
   ]
  }
 ],
 "metadata": {
  "application/vnd.databricks.v1+notebook": {
   "computePreferences": null,
   "dashboards": [],
   "environmentMetadata": {
    "base_environment": "",
    "environment_version": "2"
   },
   "inputWidgetPreferences": null,
   "language": "sql",
   "notebookMetadata": {
    "mostRecentlyExecutedCommandWithImplicitDF": {
     "commandId": -1,
     "dataframes": [
      "_sqldf"
     ]
    },
    "pythonIndentUnit": 4
   },
   "notebookName": "SCD TYPE1 using SQL",
   "widgets": {}
  },
  "language_info": {
   "name": "sql"
  }
 },
 "nbformat": 4,
 "nbformat_minor": 0
}
